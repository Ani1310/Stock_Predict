{
 "cells": [
  {
   "cell_type": "markdown",
   "id": "093c9510",
   "metadata": {},
   "source": [
    "# Importing Of Libraries"
   ]
  },
  {
   "cell_type": "code",
   "execution_count": 1,
   "id": "1d002b6f",
   "metadata": {},
   "outputs": [],
   "source": [
    "import numpy as np\n",
    "import pandas as pd\n",
    "from mlxtend.classifier import StackingClassifier\n",
    "from sklearn.model_selection import train_test_split\n",
    "import yfinance as yf\n",
    "from sklearn.metrics import mean_squared_error\n"
   ]
  },
  {
   "cell_type": "markdown",
   "id": "821f56b1",
   "metadata": {},
   "source": [
    "# Acquiring of Dataset"
   ]
  },
  {
   "cell_type": "code",
   "execution_count": 2,
   "id": "1c1474cb",
   "metadata": {
    "scrolled": true
   },
   "outputs": [
    {
     "name": "stdout",
     "output_type": "stream",
     "text": [
      "[*********************100%***********************]  1 of 1 completed\n"
     ]
    }
   ],
   "source": [
    "df = yf.download('AAPL', \"2000-01-01\", \"2020-10-01\") "
   ]
  },
  {
   "cell_type": "markdown",
   "id": "8505138d",
   "metadata": {},
   "source": [
    "# Data Visualization"
   ]
  },
  {
   "cell_type": "code",
   "execution_count": 3,
   "id": "45f92d2f",
   "metadata": {},
   "outputs": [
    {
     "data": {
      "text/html": [
       "<div>\n",
       "<style scoped>\n",
       "    .dataframe tbody tr th:only-of-type {\n",
       "        vertical-align: middle;\n",
       "    }\n",
       "\n",
       "    .dataframe tbody tr th {\n",
       "        vertical-align: top;\n",
       "    }\n",
       "\n",
       "    .dataframe thead th {\n",
       "        text-align: right;\n",
       "    }\n",
       "</style>\n",
       "<table border=\"1\" class=\"dataframe\">\n",
       "  <thead>\n",
       "    <tr style=\"text-align: right;\">\n",
       "      <th></th>\n",
       "      <th>Open</th>\n",
       "      <th>High</th>\n",
       "      <th>Low</th>\n",
       "      <th>Close</th>\n",
       "      <th>Adj Close</th>\n",
       "      <th>Volume</th>\n",
       "    </tr>\n",
       "    <tr>\n",
       "      <th>Date</th>\n",
       "      <th></th>\n",
       "      <th></th>\n",
       "      <th></th>\n",
       "      <th></th>\n",
       "      <th></th>\n",
       "      <th></th>\n",
       "    </tr>\n",
       "  </thead>\n",
       "  <tbody>\n",
       "    <tr>\n",
       "      <th>2000-01-03</th>\n",
       "      <td>0.936384</td>\n",
       "      <td>1.004464</td>\n",
       "      <td>0.907924</td>\n",
       "      <td>0.999442</td>\n",
       "      <td>0.851942</td>\n",
       "      <td>535796800</td>\n",
       "    </tr>\n",
       "    <tr>\n",
       "      <th>2000-01-04</th>\n",
       "      <td>0.966518</td>\n",
       "      <td>0.987723</td>\n",
       "      <td>0.903460</td>\n",
       "      <td>0.915179</td>\n",
       "      <td>0.780115</td>\n",
       "      <td>512377600</td>\n",
       "    </tr>\n",
       "    <tr>\n",
       "      <th>2000-01-05</th>\n",
       "      <td>0.926339</td>\n",
       "      <td>0.987165</td>\n",
       "      <td>0.919643</td>\n",
       "      <td>0.928571</td>\n",
       "      <td>0.791530</td>\n",
       "      <td>778321600</td>\n",
       "    </tr>\n",
       "    <tr>\n",
       "      <th>2000-01-06</th>\n",
       "      <td>0.947545</td>\n",
       "      <td>0.955357</td>\n",
       "      <td>0.848214</td>\n",
       "      <td>0.848214</td>\n",
       "      <td>0.723033</td>\n",
       "      <td>767972800</td>\n",
       "    </tr>\n",
       "    <tr>\n",
       "      <th>2000-01-07</th>\n",
       "      <td>0.861607</td>\n",
       "      <td>0.901786</td>\n",
       "      <td>0.852679</td>\n",
       "      <td>0.888393</td>\n",
       "      <td>0.757282</td>\n",
       "      <td>460734400</td>\n",
       "    </tr>\n",
       "  </tbody>\n",
       "</table>\n",
       "</div>"
      ],
      "text/plain": [
       "                Open      High       Low     Close  Adj Close     Volume\n",
       "Date                                                                    \n",
       "2000-01-03  0.936384  1.004464  0.907924  0.999442   0.851942  535796800\n",
       "2000-01-04  0.966518  0.987723  0.903460  0.915179   0.780115  512377600\n",
       "2000-01-05  0.926339  0.987165  0.919643  0.928571   0.791530  778321600\n",
       "2000-01-06  0.947545  0.955357  0.848214  0.848214   0.723033  767972800\n",
       "2000-01-07  0.861607  0.901786  0.852679  0.888393   0.757282  460734400"
      ]
     },
     "execution_count": 3,
     "metadata": {},
     "output_type": "execute_result"
    }
   ],
   "source": [
    "df.head()"
   ]
  },
  {
   "cell_type": "code",
   "execution_count": 4,
   "id": "f1c61120",
   "metadata": {},
   "outputs": [
    {
     "data": {
      "text/html": [
       "<div>\n",
       "<style scoped>\n",
       "    .dataframe tbody tr th:only-of-type {\n",
       "        vertical-align: middle;\n",
       "    }\n",
       "\n",
       "    .dataframe tbody tr th {\n",
       "        vertical-align: top;\n",
       "    }\n",
       "\n",
       "    .dataframe thead th {\n",
       "        text-align: right;\n",
       "    }\n",
       "</style>\n",
       "<table border=\"1\" class=\"dataframe\">\n",
       "  <thead>\n",
       "    <tr style=\"text-align: right;\">\n",
       "      <th></th>\n",
       "      <th>Open</th>\n",
       "      <th>High</th>\n",
       "      <th>Low</th>\n",
       "      <th>Close</th>\n",
       "      <th>Adj Close</th>\n",
       "      <th>Volume</th>\n",
       "    </tr>\n",
       "  </thead>\n",
       "  <tbody>\n",
       "    <tr>\n",
       "      <th>count</th>\n",
       "      <td>5220.000000</td>\n",
       "      <td>5220.000000</td>\n",
       "      <td>5220.000000</td>\n",
       "      <td>5220.000000</td>\n",
       "      <td>5220.000000</td>\n",
       "      <td>5.220000e+03</td>\n",
       "    </tr>\n",
       "    <tr>\n",
       "      <th>mean</th>\n",
       "      <td>17.477128</td>\n",
       "      <td>17.661024</td>\n",
       "      <td>17.291134</td>\n",
       "      <td>17.483839</td>\n",
       "      <td>16.267323</td>\n",
       "      <td>4.493556e+08</td>\n",
       "    </tr>\n",
       "    <tr>\n",
       "      <th>std</th>\n",
       "      <td>21.111438</td>\n",
       "      <td>21.360465</td>\n",
       "      <td>20.860485</td>\n",
       "      <td>21.125510</td>\n",
       "      <td>20.601488</td>\n",
       "      <td>3.918187e+08</td>\n",
       "    </tr>\n",
       "    <tr>\n",
       "      <th>min</th>\n",
       "      <td>0.231964</td>\n",
       "      <td>0.235536</td>\n",
       "      <td>0.227143</td>\n",
       "      <td>0.234286</td>\n",
       "      <td>0.199710</td>\n",
       "      <td>3.934000e+07</td>\n",
       "    </tr>\n",
       "    <tr>\n",
       "      <th>25%</th>\n",
       "      <td>1.317322</td>\n",
       "      <td>1.342232</td>\n",
       "      <td>1.302321</td>\n",
       "      <td>1.325803</td>\n",
       "      <td>1.130138</td>\n",
       "      <td>1.809617e+08</td>\n",
       "    </tr>\n",
       "    <tr>\n",
       "      <th>50%</th>\n",
       "      <td>8.917500</td>\n",
       "      <td>9.017321</td>\n",
       "      <td>8.781607</td>\n",
       "      <td>8.893215</td>\n",
       "      <td>7.580735</td>\n",
       "      <td>3.368860e+08</td>\n",
       "    </tr>\n",
       "    <tr>\n",
       "      <th>75%</th>\n",
       "      <td>27.178750</td>\n",
       "      <td>27.388750</td>\n",
       "      <td>26.932500</td>\n",
       "      <td>27.176250</td>\n",
       "      <td>24.894637</td>\n",
       "      <td>5.956916e+08</td>\n",
       "    </tr>\n",
       "    <tr>\n",
       "      <th>max</th>\n",
       "      <td>137.589996</td>\n",
       "      <td>137.979996</td>\n",
       "      <td>130.529999</td>\n",
       "      <td>134.179993</td>\n",
       "      <td>132.360031</td>\n",
       "      <td>7.421641e+09</td>\n",
       "    </tr>\n",
       "  </tbody>\n",
       "</table>\n",
       "</div>"
      ],
      "text/plain": [
       "              Open         High          Low        Close    Adj Close  \\\n",
       "count  5220.000000  5220.000000  5220.000000  5220.000000  5220.000000   \n",
       "mean     17.477128    17.661024    17.291134    17.483839    16.267323   \n",
       "std      21.111438    21.360465    20.860485    21.125510    20.601488   \n",
       "min       0.231964     0.235536     0.227143     0.234286     0.199710   \n",
       "25%       1.317322     1.342232     1.302321     1.325803     1.130138   \n",
       "50%       8.917500     9.017321     8.781607     8.893215     7.580735   \n",
       "75%      27.178750    27.388750    26.932500    27.176250    24.894637   \n",
       "max     137.589996   137.979996   130.529999   134.179993   132.360031   \n",
       "\n",
       "             Volume  \n",
       "count  5.220000e+03  \n",
       "mean   4.493556e+08  \n",
       "std    3.918187e+08  \n",
       "min    3.934000e+07  \n",
       "25%    1.809617e+08  \n",
       "50%    3.368860e+08  \n",
       "75%    5.956916e+08  \n",
       "max    7.421641e+09  "
      ]
     },
     "execution_count": 4,
     "metadata": {},
     "output_type": "execute_result"
    }
   ],
   "source": [
    "df.describe()"
   ]
  },
  {
   "cell_type": "markdown",
   "id": "afca8ed0",
   "metadata": {},
   "source": [
    "# Data Splitting"
   ]
  },
  {
   "cell_type": "code",
   "execution_count": 5,
   "id": "74ab528c",
   "metadata": {},
   "outputs": [],
   "source": [
    "X = df.iloc[:, 0:5].values\n",
    "y = df.iloc[:, 4].values"
   ]
  },
  {
   "cell_type": "code",
   "execution_count": 6,
   "id": "911a0aaf",
   "metadata": {},
   "outputs": [],
   "source": [
    "# 20 % training dataset is considered for testing\n",
    "X_train, X_test, y_train, y_test = train_test_split(X, y, test_size = 0.2)"
   ]
  },
  {
   "cell_type": "markdown",
   "id": "6b90c171",
   "metadata": {},
   "source": [
    "# Applying Different Models"
   ]
  },
  {
   "cell_type": "code",
   "execution_count": 7,
   "id": "73f06939",
   "metadata": {},
   "outputs": [
    {
     "name": "stdout",
     "output_type": "stream",
     "text": [
      "**************************************************\n",
      "Mean_Squared_Error is:  1.893410334585161e-26\n",
      "\n",
      "Root_Mean_Squared_Error is:  1.3760124761735123e-13\n",
      "\n",
      "**************************************************\n"
     ]
    }
   ],
   "source": [
    "from sklearn.linear_model import LinearRegression\n",
    "\n",
    "model_lr = LinearRegression()\n",
    "model_lr.fit(X_train, y_train)\n",
    "pred = model_lr.predict(X_test)\n",
    "\n",
    "mse1 = mean_squared_error(y_test, pred) # evaluating accuracy\n",
    "rmse1 = np.sqrt(mse1)\n",
    "\n",
    "print('*'*50)\n",
    "print(\"Mean_Squared_Error is: \", mse1)\n",
    "print(\"\\nRoot_Mean_Squared_Error is: \", rmse1)\n",
    "print()\n",
    "\n",
    "print('*'*50)\n"
   ]
  },
  {
   "cell_type": "code",
   "execution_count": 8,
   "id": "d503da54",
   "metadata": {},
   "outputs": [
    {
     "name": "stdout",
     "output_type": "stream",
     "text": [
      "**************************************************\n",
      "Mean_Squared_Error is:  0.011689199053261885\n",
      "\n",
      "Root_Mean_Squared_Error is:  0.10811659934192291\n",
      "\n",
      "**************************************************\n"
     ]
    }
   ],
   "source": [
    "from sklearn.tree import DecisionTreeRegressor as DT\n",
    "\n",
    "model_DT = DT().fit(X_train, y_train)\n",
    "\n",
    "\n",
    "model_DT_pred = model_DT.predict(X_test)\n",
    "\n",
    "\n",
    "mse2 = mean_squared_error(y_test, model_DT_pred) # evaluating accuracy\n",
    "rmse2 = np.sqrt(mse2)\n",
    "\n",
    "print('*'*50)\n",
    "print(\"Mean_Squared_Error is: \", mse2)\n",
    "print(\"\\nRoot_Mean_Squared_Error is: \", rmse2)\n",
    "print()\n",
    "\n",
    "print('*'*50)"
   ]
  },
  {
   "cell_type": "code",
   "execution_count": 9,
   "id": "3ee8739e",
   "metadata": {},
   "outputs": [
    {
     "name": "stdout",
     "output_type": "stream",
     "text": [
      "**************************************************\n",
      "Mean_Squared_Error is:  0.011555666838131086\n",
      "\n",
      "Root_Mean_Squared_Error is:  0.10749728758499484\n",
      "\n",
      "**************************************************\n"
     ]
    }
   ],
   "source": [
    "from sklearn.ensemble import RandomForestRegressor as RF\n",
    "\n",
    "\n",
    "model_rf = RF().fit(X_train, y_train)\n",
    "model_rf_pred = model_rf.predict(X_test)\n",
    "\n",
    "mse3 = mean_squared_error(y_test, model_rf_pred) # evaluating accuracy\n",
    "rmse3 = np.sqrt(mse3)\n",
    "\n",
    "print('*'*50)\n",
    "print(\"Mean_Squared_Error is: \", mse3)\n",
    "print(\"\\nRoot_Mean_Squared_Error is: \", rmse3)\n",
    "print()\n",
    "\n",
    "print('*'*50)"
   ]
  },
  {
   "cell_type": "markdown",
   "id": "6c4cee33",
   "metadata": {},
   "source": [
    "# Applying Stacking Model"
   ]
  },
  {
   "cell_type": "code",
   "execution_count": 10,
   "id": "195b1d49",
   "metadata": {},
   "outputs": [],
   "source": [
    "\n",
    "clf_stack = StackingClassifier(classifiers = [LinearRegression(), RF(), DT()], meta_classifier = RF() , use_features_in_secondary = True)"
   ]
  },
  {
   "cell_type": "code",
   "execution_count": 11,
   "id": "2723889a",
   "metadata": {},
   "outputs": [],
   "source": [
    "model_stack = clf_stack.fit(X_train, y_train) # training of stacked model\n",
    "pred_stack = model_stack.predict(X_test)# predictions on test data using stacked model\n"
   ]
  },
  {
   "cell_type": "code",
   "execution_count": 12,
   "id": "51d2238a",
   "metadata": {},
   "outputs": [
    {
     "name": "stdout",
     "output_type": "stream",
     "text": [
      "**************************************************\n",
      "Mean_Squared_Error is:  0.008741145444338223\n",
      "\n",
      "Root_Mean_Squared_Error is:  0.09349409309864566\n",
      "\n",
      "**************************************************\n"
     ]
    }
   ],
   "source": [
    "from sklearn.metrics import mean_squared_error\n",
    "mse4 = mean_squared_error(y_test, pred_stack) # evaluating accuracy\n",
    "rmse4 = np.sqrt(mse4)\n",
    "\n",
    "print('*'*50)\n",
    "print(\"Mean_Squared_Error is: \", mse4)\n",
    "print(\"\\nRoot_Mean_Squared_Error is: \", rmse4)\n",
    "print()\n",
    "\n",
    "print('*'*50)"
   ]
  },
  {
   "cell_type": "markdown",
   "id": "3bc0aafd",
   "metadata": {},
   "source": [
    "# Calculation Of Final Accuracy"
   ]
  },
  {
   "cell_type": "code",
   "execution_count": 13,
   "id": "375ee962",
   "metadata": {
    "scrolled": true
   },
   "outputs": [
    {
     "name": "stdout",
     "output_type": "stream",
     "text": [
      "**************************************************\n",
      "Mean_Squared_Error of Linear Regression:  1.893410334585161e-26\n",
      "\n",
      "Mean_Squared_Error of DecisionTree:  0.011689199053261885\n",
      "\n",
      "Mean_Squared_Error of RandomForest:  0.011555666838131086\n",
      "\n",
      "Mean_Squared_Error of Stacking:  0.008741145444338223\n",
      "\n",
      "**************************************************\n"
     ]
    }
   ],
   "source": [
    "print('*'*50)\n",
    "print(\"Mean_Squared_Error of Linear Regression: \", mse1)\n",
    "print()\n",
    "print(\"Mean_Squared_Error of DecisionTree: \", mse2)\n",
    "print()\n",
    "print(\"Mean_Squared_Error of RandomForest: \", mse3)\n",
    "print()\n",
    "print(\"Mean_Squared_Error of Stacking: \", mse4)\n",
    "print()\n",
    "\n",
    "print('*'*50)"
   ]
  },
  {
   "cell_type": "code",
   "execution_count": 14,
   "id": "e0a7e885",
   "metadata": {},
   "outputs": [
    {
     "name": "stdout",
     "output_type": "stream",
     "text": [
      "**************************************************\n",
      "RMSE of Linear Regression:  1.3760124761735123e-13\n",
      "\n",
      "RMSE of DecisionTree:  0.10811659934192291\n",
      "\n",
      "RMSE of RandomForest:  0.10749728758499484\n",
      "\n",
      "RMSE of Stacking:  0.09349409309864566\n",
      "\n",
      "**************************************************\n"
     ]
    }
   ],
   "source": [
    "print('*'*50)\n",
    "print(\"RMSE of Linear Regression: \", rmse1)\n",
    "print()\n",
    "print(\"RMSE of DecisionTree: \", rmse2)\n",
    "print()\n",
    "print(\"RMSE of RandomForest: \", rmse3)\n",
    "print()\n",
    "print(\"RMSE of Stacking: \", rmse4)\n",
    "print()\n",
    "\n",
    "print('*'*50)"
   ]
  }
 ],
 "metadata": {
  "kernelspec": {
   "display_name": "Python 3 (ipykernel)",
   "language": "python",
   "name": "python3"
  },
  "language_info": {
   "codemirror_mode": {
    "name": "ipython",
    "version": 3
   },
   "file_extension": ".py",
   "mimetype": "text/x-python",
   "name": "python",
   "nbconvert_exporter": "python",
   "pygments_lexer": "ipython3",
   "version": "3.10.2"
  }
 },
 "nbformat": 4,
 "nbformat_minor": 5
}
